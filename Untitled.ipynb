{
 "cells": [
  {
   "cell_type": "code",
   "execution_count": 63,
   "id": "c336420d-9d4d-406a-8d67-c8336b9eb968",
   "metadata": {},
   "outputs": [],
   "source": [
    "import subprocess\n",
    "import re"
   ]
  },
  {
   "cell_type": "code",
   "execution_count": 64,
   "id": "465fdd2f-d8b5-4f76-a072-62953777889e",
   "metadata": {},
   "outputs": [],
   "source": [
    "command_output = subprocess.run(['netsh', 'wlan', 'show', 'profiles'], capture_output=True).stdout.decode('gbk')"
   ]
  },
  {
   "cell_type": "code",
   "execution_count": 65,
   "id": "3dd3e610-b92a-4f1b-81a4-db42c75707de",
   "metadata": {},
   "outputs": [],
   "source": [
    "profile_names = re.findall('所有用户配置文件 : (.*)\\r', command_output)"
   ]
  },
  {
   "cell_type": "code",
   "execution_count": 66,
   "id": "0d3ead4e-6b1a-4bff-9a27-2afb2fdf154f",
   "metadata": {
    "tags": []
   },
   "outputs": [],
   "source": [
    "wifi_list = []\n",
    "if len(profile_names) != 0:\n",
    "    for name in profile_names:\n",
    "        wifi_profile = {}\n",
    "        profile_info = subprocess.run(['netsh', 'wlan', 'show', 'profile', name], capture_output=True).stdout.decode('gbk', 'ignore')\n",
    "        if re.search('安全密钥               : 存在', profile_info):\n",
    "            wifi_profile['ssid'] = name\n",
    "            profile_info_pass = subprocess.run(['netsh', 'wlan', 'show', 'profile', name, 'key=clear'], capture_output=True).stdout.decode('gbk', 'ignore')\n",
    "            password = re.search('关键内容            : (.*)\\r', profile_info_pass)\n",
    "            if password == '不存在':\n",
    "                wifi_profile['password'] = None\n",
    "            else:\n",
    "                wifi_profile['password'] = password[1]\n",
    "            wifi_list.append(wifi_profile)"
   ]
  },
  {
   "cell_type": "code",
   "execution_count": 67,
   "id": "7949d7fd-32c4-4959-8edb-4720116aa5e9",
   "metadata": {},
   "outputs": [
    {
     "data": {
      "text/plain": [
       "[{'ssid': '清晨焊机', 'password': 'NMSLCNMDB'},\n",
       " {'ssid': '海澜之家', 'password': '517znmnb'},\n",
       " {'ssid': '李再骂，我cnm', 'password': 'nmslcnmd'},\n",
       " {'ssid': '想连吗 叫爸爸呀??', 'password': '1758...yangting'},\n",
       " {'ssid': '岿(音kui)然不动坚定不移', 'password': 'NMSLCNMDB'},\n",
       " {'ssid': '中国海洋大学5G(试用)', 'password': 'NMSLCNMDB'},\n",
       " {'ssid': 'yunxi', 'password': '17561932963'},\n",
       " {'ssid': 'sky', 'password': '55725158'},\n",
       " {'ssid': 'az', 'password': '516516516'},\n",
       " {'ssid': 'WD Hotel', 'password': '4008567979'},\n",
       " {'ssid': 'OUC-WIFI 2', 'password': 'nmslcnmd'},\n",
       " {'ssid': 'OUC-5G', 'password': 'nmslcnmd'},\n",
       " {'ssid': 'Mysql', 'password': '99999999'},\n",
       " {'ssid': 'HUAWEI P20 Pro', 'password': '6a331cfba888'},\n",
       " {'ssid': 'EKZSTAL', 'password': 'Ex[937364497]'},\n",
       " {'ssid': 'EKZSTAL_5G', 'password': 'Ex[937364497]'},\n",
       " {'ssid': 'CMCC-XanaHotelle8409', 'password': 'xana8888'},\n",
       " {'ssid': 'CMCC-1904', 'password': '21192120'},\n",
       " {'ssid': 'B317', 'password': 'b317wifi'},\n",
       " {'ssid': 'A310', 'password': 'a310wifi'},\n",
       " {'ssid': '220', 'password': 'b220wifi'},\n",
       " {'ssid': '+－×÷∑', 'password': 'NMSLCNMDB'}]"
      ]
     },
     "execution_count": 67,
     "metadata": {},
     "output_type": "execute_result"
    }
   ],
   "source": [
    "wifi_list"
   ]
  },
  {
   "cell_type": "code",
   "execution_count": null,
   "id": "b856733f-5a7d-4628-89d2-3401cd88ce14",
   "metadata": {},
   "outputs": [],
   "source": []
  }
 ],
 "metadata": {
  "kernelspec": {
   "display_name": "Python 3 (ipykernel)",
   "language": "python",
   "name": "python3"
  },
  "language_info": {
   "codemirror_mode": {
    "name": "ipython",
    "version": 3
   },
   "file_extension": ".py",
   "mimetype": "text/x-python",
   "name": "python",
   "nbconvert_exporter": "python",
   "pygments_lexer": "ipython3",
   "version": "3.10.4"
  }
 },
 "nbformat": 4,
 "nbformat_minor": 5
}
